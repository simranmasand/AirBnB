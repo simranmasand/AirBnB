{
 "cells": [
  {
   "cell_type": "code",
   "execution_count": 1,
   "metadata": {
    "scrolled": false
   },
   "outputs": [
    {
     "name": "stderr",
     "output_type": "stream",
     "text": [
      "C:\\Users\\isimr\\Anaconda3\\lib\\site-packages\\ipykernel_launcher.py:30: UserWarning: Attempted to set non-positive bottom ylim on a log-scaled axis.\n",
      "Invalid limit will be ignored.\n"
     ]
    }
   ],
   "source": [
    "import matplotlib.pyplot as plt\n",
    "import numpy as np\n",
    "import seaborn as sns\n",
    "sns.set_style(\"white\")\n",
    "import pandas as pd\n",
    "my_dpi=96\n",
    " \n",
    "# Get the data (csv file is hosted on the web)\n",
    "url = 'https://python-graph-gallery.com/wp-content/uploads/gapminderData.csv'\n",
    "data = pd.read_csv(url)\n",
    " \n",
    "# And I need to transform my categorical column (continent) in a numerical value group1->1, group2->2...\n",
    "data['continent']=pd.Categorical(data['continent'])\n",
    " \n",
    "# For each year:\n",
    "for i in data.year.unique():\n",
    " \n",
    "# initialize a figure\n",
    "    fig = plt.figure(figsize=(680/my_dpi, 480/my_dpi), dpi=my_dpi)\n",
    " \n",
    "# Change color with c and alpha. I map the color to the X axis value.\n",
    "    tmp=data[ data.year == i ]\n",
    "    plt.scatter(tmp['lifeExp'], tmp['gdpPercap'] , s=tmp['pop']/200000 , c=tmp['continent'].cat.codes, cmap=\"Accent\", alpha=0.6, edgecolors=\"white\", linewidth=2);\n",
    " \n",
    "# Add titles (main and on axis)\n",
    "    plt.yscale('log')\n",
    "    plt.xlabel(\"Life Expectancy\")\n",
    "    plt.ylabel(\"GDP per Capita\")\n",
    "    plt.title(\"Year: \"+str(i) )\n",
    "    plt.ylim(0,100000)\n",
    "    plt.xlim(30, 90)\n",
    " \n",
    "# Save it\n",
    "    filename='Gapminder_step'+str(i)+'.png'\n",
    "    plt.savefig(filename, dpi=96)\n",
    "    plt.gca()\n",
    "#Transformation in a GIF using Image Magick\n",
    "\n",
    "#view sourceprint?\n",
    "# Then use image magick (this is bash, not python)\n",
    "#"
   ]
  },
  {
   "cell_type": "code",
   "execution_count": 2,
   "metadata": {},
   "outputs": [
    {
     "data": {
      "text/plain": [
       "4"
      ]
     },
     "execution_count": 2,
     "metadata": {},
     "output_type": "execute_result"
    }
   ],
   "source": [
    "import glob\n",
    "import os\n",
    "\n",
    "gif_name = 'outputName'\n",
    "file_list = glob.glob('*.png') # Get all the pngs in the current directory\n",
    "#list.sort(file_list, key=lambda x: int(x.split('_')[1].split('.png')[0])) # Sort the images by #, this may need to be tweaked for your use case\n",
    "\n",
    "with open('image_list.txt', 'w') as file:\n",
    "    for item in file_list:\n",
    "        file.write(\"%s\\n\" % item)\n",
    "\n",
    "os.system('convert @image_list.txt {}.gif'.format(gif_name))"
   ]
  },
  {
   "cell_type": "code",
   "execution_count": 5,
   "metadata": {
    "scrolled": true
   },
   "outputs": [
    {
     "ename": "Exception",
     "evalue": "Moviepy: ImageSequenceClip requires all images to be the same size",
     "output_type": "error",
     "traceback": [
      "\u001b[1;31m---------------------------------------------------------------------------\u001b[0m",
      "\u001b[1;31mException\u001b[0m                                 Traceback (most recent call last)",
      "\u001b[1;32m<ipython-input-5-b416d1cf9046>\u001b[0m in \u001b[0;36m<module>\u001b[1;34m\u001b[0m\n\u001b[0;32m      6\u001b[0m \u001b[0mfile_list\u001b[0m \u001b[1;33m=\u001b[0m \u001b[0mglob\u001b[0m\u001b[1;33m.\u001b[0m\u001b[0mglob\u001b[0m\u001b[1;33m(\u001b[0m\u001b[1;34m'*.png'\u001b[0m\u001b[1;33m)\u001b[0m \u001b[1;31m# Get all the pngs in the current directory\u001b[0m\u001b[1;33m\u001b[0m\u001b[1;33m\u001b[0m\u001b[0m\n\u001b[0;32m      7\u001b[0m \u001b[1;31m#list.sort(file_list, key=lambda x: int(x.split('_')[1].split('.png')[0])) # Sort the images by #, this may need to be tweaked for your use case\u001b[0m\u001b[1;33m\u001b[0m\u001b[1;33m\u001b[0m\u001b[1;33m\u001b[0m\u001b[0m\n\u001b[1;32m----> 8\u001b[1;33m \u001b[0mclip\u001b[0m \u001b[1;33m=\u001b[0m \u001b[0mmpy\u001b[0m\u001b[1;33m.\u001b[0m\u001b[0mImageSequenceClip\u001b[0m\u001b[1;33m(\u001b[0m\u001b[0mfile_list\u001b[0m\u001b[1;33m,\u001b[0m \u001b[0mfps\u001b[0m\u001b[1;33m=\u001b[0m\u001b[0mfps\u001b[0m\u001b[1;33m)\u001b[0m\u001b[1;33m\u001b[0m\u001b[1;33m\u001b[0m\u001b[0m\n\u001b[0m\u001b[0;32m      9\u001b[0m \u001b[0mclip\u001b[0m\u001b[1;33m.\u001b[0m\u001b[0mwrite_gif\u001b[0m\u001b[1;33m(\u001b[0m\u001b[1;34m'{}.gif'\u001b[0m\u001b[1;33m.\u001b[0m\u001b[0mformat\u001b[0m\u001b[1;33m(\u001b[0m\u001b[0mgif_name\u001b[0m\u001b[1;33m)\u001b[0m\u001b[1;33m,\u001b[0m \u001b[0mfps\u001b[0m\u001b[1;33m=\u001b[0m\u001b[0mfps\u001b[0m\u001b[1;33m)\u001b[0m\u001b[1;33m\u001b[0m\u001b[1;33m\u001b[0m\u001b[0m\n",
      "\u001b[1;32m~\\Anaconda3\\lib\\site-packages\\moviepy\\video\\io\\ImageSequenceClip.py\u001b[0m in \u001b[0;36m__init__\u001b[1;34m(self, sequence, fps, durations, with_mask, ismask, load_images)\u001b[0m\n\u001b[0;32m     88\u001b[0m                \u001b[0mimage1\u001b[0m\u001b[1;33m=\u001b[0m\u001b[0mimread\u001b[0m\u001b[1;33m(\u001b[0m\u001b[0mimage\u001b[0m\u001b[1;33m)\u001b[0m\u001b[1;33m\u001b[0m\u001b[1;33m\u001b[0m\u001b[0m\n\u001b[0;32m     89\u001b[0m             \u001b[1;32mif\u001b[0m \u001b[0msize\u001b[0m \u001b[1;33m!=\u001b[0m \u001b[0mimage1\u001b[0m\u001b[1;33m.\u001b[0m\u001b[0mshape\u001b[0m\u001b[1;33m:\u001b[0m\u001b[1;33m\u001b[0m\u001b[1;33m\u001b[0m\u001b[0m\n\u001b[1;32m---> 90\u001b[1;33m                \u001b[1;32mraise\u001b[0m \u001b[0mException\u001b[0m\u001b[1;33m(\u001b[0m\u001b[1;34m\"Moviepy: ImageSequenceClip requires all images to be the same size\"\u001b[0m\u001b[1;33m)\u001b[0m\u001b[1;33m\u001b[0m\u001b[1;33m\u001b[0m\u001b[0m\n\u001b[0m\u001b[0;32m     91\u001b[0m \u001b[1;33m\u001b[0m\u001b[0m\n\u001b[0;32m     92\u001b[0m \u001b[1;33m\u001b[0m\u001b[0m\n",
      "\u001b[1;31mException\u001b[0m: Moviepy: ImageSequenceClip requires all images to be the same size"
     ]
    }
   ],
   "source": [
    "#import glob\n",
    "import moviepy.editor as mpy\n",
    "\n",
    "gif_name = 'outputName'\n",
    "fps = 12\n",
    "file_list = glob.glob('*.png') # Get all the pngs in the current directory\n",
    "#list.sort(file_list, key=lambda x: int(x.split('_')[1].split('.png')[0])) # Sort the images by #, this may need to be tweaked for your use case\n",
    "clip = mpy.ImageSequenceClip(file_list, fps=fps)\n",
    "clip.write_gif('{}.gif'.format(gif_name), fps=fps)"
   ]
  },
  {
   "cell_type": "code",
   "execution_count": null,
   "metadata": {},
   "outputs": [],
   "source": [
    "import imageio"
   ]
  },
  {
   "cell_type": "code",
   "execution_count": 12,
   "metadata": {},
   "outputs": [
    {
     "name": "stdout",
     "output_type": "stream",
     "text": [
      "alabaster==0.7.10\n",
      "anaconda-client==1.6.14\n",
      "anaconda-navigator==1.8.7\n",
      "anaconda-project==0.8.2\n",
      "asn1crypto==0.24.0\n",
      "astroid==1.6.3\n",
      "astropy==3.0.2\n",
      "attrs==18.1.0\n",
      "Babel==2.5.3\n",
      "backcall==0.1.0\n",
      "backports.shutil-get-terminal-size==1.0.0\n",
      "beautifulsoup4==4.6.0\n",
      "bitarray==0.8.1\n",
      "bkcharts==0.2\n",
      "blaze==0.11.3\n",
      "bleach==2.1.3\n",
      "bokeh==0.12.16\n",
      "boto==2.48.0\n",
      "Bottleneck==1.2.1\n",
      "certifi==2018.4.16\n",
      "cffi==1.11.5\n",
      "chardet==3.0.4\n",
      "click==6.7\n",
      "cloudpickle==0.5.3\n",
      "clyent==1.2.2\n",
      "colorama==0.3.9\n",
      "comtypes==1.1.4\n",
      "conda==4.5.4\n",
      "conda-build==3.10.5\n",
      "conda-verify==2.0.0\n",
      "contextlib2==0.5.5\n",
      "cryptography==2.2.2\n",
      "cycler==0.10.0\n",
      "Cython==0.28.2\n",
      "cytoolz==0.9.0.1\n",
      "dask==0.17.5\n",
      "datashape==0.5.4\n",
      "decorator==4.3.0\n",
      "distributed==1.21.8\n",
      "docutils==0.14\n",
      "entrypoints==0.2.3\n",
      "et-xmlfile==1.0.1\n",
      "fastcache==1.0.2\n",
      "filelock==3.0.4\n",
      "Flask==1.0.2\n",
      "Flask-Cors==3.0.4\n",
      "gevent==1.3.0\n",
      "glob2==0.6\n",
      "greenlet==0.4.13\n",
      "h5py==2.7.1\n",
      "heapdict==1.0.0\n",
      "html5lib==1.0.1\n",
      "idna==2.6\n",
      "imageio==2.3.0\n",
      "imagesize==1.0.0\n",
      "ipykernel==4.8.2\n",
      "ipython==6.5.0\n",
      "ipython-genutils==0.2.0\n",
      "ipywidgets==7.2.1\n",
      "isort==4.3.4\n",
      "itsdangerous==0.24\n",
      "jdcal==1.4\n",
      "jedi==0.12.1\n",
      "Jinja2==2.10\n",
      "jsonschema==2.6.0\n",
      "jupyter==1.0.0\n",
      "jupyter-client==5.2.3\n",
      "jupyter-console==5.2.0\n",
      "jupyter-core==4.4.0\n",
      "jupyterlab==0.32.1\n",
      "jupyterlab-launcher==0.10.5\n",
      "kiwisolver==1.0.1\n",
      "lazy-object-proxy==1.3.1\n",
      "line-profiler==2.1.2\n",
      "llvmlite==0.23.1\n",
      "locket==0.2.0\n",
      "lxml==4.2.1\n",
      "MarkupSafe==1.0\n",
      "matplotlib==2.2.2\n",
      "mccabe==0.6.1\n",
      "menuinst==1.4.14\n",
      "mistune==0.8.3\n",
      "mkl-fft==1.0.0\n",
      "mkl-random==1.0.1\n",
      "more-itertools==4.1.0\n",
      "mpmath==1.0.0\n",
      "msgpack==0.6.2\n",
      "msgpack-python==0.5.6\n",
      "multipledispatch==0.5.0\n",
      "navigator-updater==0.2.1\n",
      "nbconvert==5.3.1\n",
      "nbformat==4.4.0\n",
      "networkx==2.1\n",
      "nltk==3.3\n",
      "nose==1.3.7\n",
      "notebook==5.5.0\n",
      "numba==0.38.0\n",
      "numexpr==2.6.5\n",
      "numpy==1.17.0\n",
      "numpydoc==0.8.0\n",
      "odo==0.5.1\n",
      "olefile==0.45.1\n",
      "openpyxl==2.5.3\n",
      "packaging==17.1\n",
      "pandas==0.25.0\n",
      "pandas-datareader==0.7.4\n",
      "pandocfilters==1.4.2\n",
      "parso==0.3.1\n",
      "partd==0.3.8\n",
      "path.py==11.0.1\n",
      "pathlib2==2.3.2\n",
      "patsy==0.5.0\n",
      "pep8==1.7.1\n",
      "pickleshare==0.7.4\n",
      "Pillow==5.1.0\n",
      "pkginfo==1.4.2\n",
      "pluggy==0.6.0\n",
      "ply==3.11\n",
      "prompt-toolkit==1.0.15\n",
      "psutil==5.4.5\n",
      "py==1.5.3\n",
      "pycodestyle==2.4.0\n",
      "pycosat==0.6.3\n",
      "pycparser==2.18\n",
      "pycrypto==2.6.1\n",
      "pycurl==7.43.0.1\n",
      "pyflakes==1.6.0\n",
      "Pygments==2.2.0\n",
      "pylint==1.8.4\n",
      "pyodbc==4.0.23\n",
      "pyOpenSSL==18.0.0\n",
      "pyparsing==2.3.1\n",
      "PySocks==1.6.8\n",
      "pytest==3.5.1\n",
      "pytest-arraydiff==0.2\n",
      "pytest-astropy==0.3.0\n",
      "pytest-doctestplus==0.1.3\n",
      "pytest-openfiles==0.3.0\n",
      "pytest-remotedata==0.2.1\n",
      "python-dateutil==2.8.0\n",
      "pytz==2018.9\n",
      "PyWavelets==0.5.2\n",
      "pywin32==223\n",
      "pywinpty==0.5.1\n",
      "PyYAML==3.12\n",
      "pyzmq==17.0.0\n",
      "QtAwesome==0.4.4\n",
      "qtconsole==4.3.1\n",
      "QtPy==1.4.1\n",
      "requests==2.18.4\n",
      "rope==0.10.7\n",
      "ruamel-yaml==0.15.35\n",
      "scikit-image==0.13.1\n",
      "scikit-learn==0.19.1\n",
      "scipy==1.3.1\n",
      "seaborn==0.8.1\n",
      "Send2Trash==1.5.0\n",
      "simplegeneric==0.8.1\n",
      "singledispatch==3.4.0.3\n",
      "six==1.11.0\n",
      "snowballstemmer==1.2.1\n",
      "sortedcollections==0.6.1\n",
      "sortedcontainers==1.5.10\n",
      "Sphinx==1.7.4\n",
      "sphinxcontrib-websupport==1.0.1\n",
      "spyder==3.2.8\n",
      "SQLAlchemy==1.2.7\n",
      "statsmodels==0.9.0\n",
      "sympy==1.1.1\n",
      "tables==3.4.3\n",
      "tblib==1.3.2\n",
      "terminado==0.8.1\n",
      "testpath==0.3.1\n",
      "toolz==0.9.0\n",
      "tornado==5.0.2\n",
      "traitlets==4.3.2\n",
      "typing==3.6.4\n",
      "unicodecsv==0.14.1\n",
      "urllib3==1.22\n",
      "wcwidth==0.1.7\n",
      "webencodings==0.5.1\n",
      "Werkzeug==0.14.1\n",
      "widgetsnbextension==3.2.1\n",
      "win-inet-pton==1.0.1\n",
      "win-unicode-console==0.5\n",
      "wincertstore==0.2\n",
      "wrapt==1.10.11\n",
      "xlrd==1.1.0\n",
      "XlsxWriter==1.0.2\n",
      "xlwings==0.11.8\n",
      "xlwt==1.3.0\n",
      "zict==0.1.3\n"
     ]
    },
    {
     "name": "stderr",
     "output_type": "stream",
     "text": [
      "You are using pip version 10.0.1, however version 20.0.1 is available.\n",
      "You should consider upgrading via the 'python -m pip install --upgrade pip' command.\n"
     ]
    }
   ],
   "source": [
    "!pip freeze"
   ]
  },
  {
   "cell_type": "code",
   "execution_count": 4,
   "metadata": {},
   "outputs": [
    {
     "ename": "ModuleNotFoundError",
     "evalue": "No module named 'moviepy'",
     "output_type": "error",
     "traceback": [
      "\u001b[1;31m---------------------------------------------------------------------------\u001b[0m",
      "\u001b[1;31mModuleNotFoundError\u001b[0m                       Traceback (most recent call last)",
      "\u001b[1;32m<ipython-input-4-653767589598>\u001b[0m in \u001b[0;36m<module>\u001b[1;34m\u001b[0m\n\u001b[1;32m----> 1\u001b[1;33m \u001b[1;32mimport\u001b[0m \u001b[0mmoviepy\u001b[0m\u001b[1;33m\u001b[0m\u001b[1;33m\u001b[0m\u001b[0m\n\u001b[0m",
      "\u001b[1;31mModuleNotFoundError\u001b[0m: No module named 'moviepy'"
     ]
    }
   ],
   "source": [
    "import moviepy"
   ]
  },
  {
   "cell_type": "code",
   "execution_count": 10,
   "metadata": {},
   "outputs": [],
   "source": [
    "attempt_data = {\"Model_Iter\":[1,2,3,4,5,6,7],\"R2_Score\":[0.10,0.26,0.280380019399908,0.2831359818817798,0.3522388190740968,0.3278027497723598,0.31852965100776354],\"Model Complexity\":[17,17,55,55,9549,13244,13244],\"Model\":['Linear','Linear','DecisionTree','DecisionTree','NLP- Random Forest','GradientBoostingRF','GradientBoostingRF']}\n",
    "attempts_pd = pd.DataFrame(attempt_data)"
   ]
  },
  {
   "cell_type": "code",
   "execution_count": 16,
   "metadata": {},
   "outputs": [
    {
     "data": {
      "text/html": [
       "<div>\n",
       "<style scoped>\n",
       "    .dataframe tbody tr th:only-of-type {\n",
       "        vertical-align: middle;\n",
       "    }\n",
       "\n",
       "    .dataframe tbody tr th {\n",
       "        vertical-align: top;\n",
       "    }\n",
       "\n",
       "    .dataframe thead th {\n",
       "        text-align: right;\n",
       "    }\n",
       "</style>\n",
       "<table border=\"1\" class=\"dataframe\">\n",
       "  <thead>\n",
       "    <tr style=\"text-align: right;\">\n",
       "      <th></th>\n",
       "      <th>Model_Iter</th>\n",
       "      <th>R2_Score</th>\n",
       "      <th>Model Complexity</th>\n",
       "      <th>Model</th>\n",
       "    </tr>\n",
       "  </thead>\n",
       "  <tbody>\n",
       "    <tr>\n",
       "      <td>0</td>\n",
       "      <td>1</td>\n",
       "      <td>0.100000</td>\n",
       "      <td>17</td>\n",
       "      <td>Linear</td>\n",
       "    </tr>\n",
       "    <tr>\n",
       "      <td>1</td>\n",
       "      <td>2</td>\n",
       "      <td>0.260000</td>\n",
       "      <td>17</td>\n",
       "      <td>Linear</td>\n",
       "    </tr>\n",
       "    <tr>\n",
       "      <td>2</td>\n",
       "      <td>3</td>\n",
       "      <td>0.280380</td>\n",
       "      <td>55</td>\n",
       "      <td>DecisionTree</td>\n",
       "    </tr>\n",
       "    <tr>\n",
       "      <td>3</td>\n",
       "      <td>4</td>\n",
       "      <td>0.283136</td>\n",
       "      <td>55</td>\n",
       "      <td>DecisionTree</td>\n",
       "    </tr>\n",
       "    <tr>\n",
       "      <td>4</td>\n",
       "      <td>5</td>\n",
       "      <td>0.352239</td>\n",
       "      <td>9549</td>\n",
       "      <td>NLP- Random Forest</td>\n",
       "    </tr>\n",
       "    <tr>\n",
       "      <td>5</td>\n",
       "      <td>6</td>\n",
       "      <td>0.327803</td>\n",
       "      <td>13244</td>\n",
       "      <td>GradientBoostingRF</td>\n",
       "    </tr>\n",
       "    <tr>\n",
       "      <td>6</td>\n",
       "      <td>7</td>\n",
       "      <td>0.318530</td>\n",
       "      <td>13244</td>\n",
       "      <td>GradientBoostingRF</td>\n",
       "    </tr>\n",
       "  </tbody>\n",
       "</table>\n",
       "</div>"
      ],
      "text/plain": [
       "   Model_Iter  R2_Score  Model Complexity               Model\n",
       "0           1  0.100000                17              Linear\n",
       "1           2  0.260000                17              Linear\n",
       "2           3  0.280380                55        DecisionTree\n",
       "3           4  0.283136                55        DecisionTree\n",
       "4           5  0.352239              9549  NLP- Random Forest\n",
       "5           6  0.327803             13244  GradientBoostingRF\n",
       "6           7  0.318530             13244  GradientBoostingRF"
      ]
     },
     "execution_count": 16,
     "metadata": {},
     "output_type": "execute_result"
    }
   ],
   "source": [
    "attempts_pd"
   ]
  },
  {
   "cell_type": "code",
   "execution_count": 60,
   "metadata": {
    "scrolled": false
   },
   "outputs": [
    {
     "data": {
      "image/png": "[encoded data removed]",
      "text/plain": [
       "<Figure size 432x360 with 1 Axes>"
      ]
     },
     "metadata": {
      "needs_background": "light"
     },
     "output_type": "display_data"
    }
   ],
   "source": [
    "plt.figure(figsize=(6,5))\n",
    "attempts_pd[\"size\"]=0.6*attempts_pd[\"Model Complexity\"]\n",
    "sns.scatterplot(x=\"Model_Iter\",y=\"R2_Score\",data=attempts_pd, hue=\"Model\",size=\"Model Complexity\",palette='viridis');"
   ]
  },
  {
   "cell_type": "code",
   "execution_count": 68,
   "metadata": {},
   "outputs": [
    {
     "data": {
      "image/png": "[encoded data removed]",
      "text/plain": [
       "<Figure size 432x288 with 1 Axes>"
      ]
     },
     "metadata": {
      "needs_background": "light"
     },
     "output_type": "display_data"
    }
   ],
   "source": [
    "for i in range(7):\n",
    "    plt.xlabel(\"Modelling Attempts\")\n",
    "    plt.ylabel(\"R2_score\")\n",
    "    plt.title(\"Model R2_score: \"+str(i) )\n",
    "    filename=str(i)+\".png\"\n",
    "    plt.scatter(attempts_pd.loc[i].Model_Iter,attempts_pd.loc[i].R2_Score,s=attempts_pd.loc[i][\"size\"])\n",
    "    plt.savefig(filename, dpi=96);"
   ]
  },
  {
   "cell_type": "code",
   "execution_count": 69,
   "metadata": {},
   "outputs": [
    {
     "data": {
      "text/plain": [
       "4"
      ]
     },
     "execution_count": 69,
     "metadata": {},
     "output_type": "execute_result"
    }
   ],
   "source": [
    "import glob\n",
    "import os\n",
    "\n",
    "gif_name = 'outputName'\n",
    "file_list = glob.glob('*.png') # Get all the pngs in the current directory\n",
    "#list.sort(file_list, key=lambda x: int(x.split('_')[1].split('.png')[0])) # Sort the images by #, this may need to be tweaked for your use case\n",
    "\n",
    "with open('image_list.txt', 'w') as file:\n",
    "    for item in file_list:\n",
    "        file.write(\"%s\\n\" % item)\n",
    "\n",
    "os.system('convert @image_list.txt {}.gif'.format(gif_name))"
   ]
  },
  {
   "cell_type": "code",
   "execution_count": 71,
   "metadata": {},
   "outputs": [
    {
     "name": "stdout",
     "output_type": "stream",
     "text": [
      "MoviePy - Building file outputName.gif with imageio.\n"
     ]
    },
    {
     "name": "stderr",
     "output_type": "stream",
     "text": [
      "                                                                                                                       \r"
     ]
    }
   ],
   "source": [
    "#import glob\n",
    "import moviepy.editor as mpy\n",
    "\n",
    "gif_name = 'outputName'\n",
    "fps = 0.5\n",
    "file_list = glob.glob('*.png') # Get all the pngs in the current directory\n",
    "#list.sort(file_list, key=lambda x: int(x.split('_')[1].split('.png')[0])) # Sort the images by #, this may need to be tweaked for your use case\n",
    "clip = mpy.ImageSequenceClip(file_list, fps=fps)\n",
    "clip.write_gif('{}.gif'.format(gif_name), fps=fps)"
   ]
  },
  {
   "cell_type": "code",
   "execution_count": null,
   "metadata": {},
   "outputs": [],
   "source": []
  }
 ],
 "metadata": {
  "kernelspec": {
   "display_name": "Python 3",
   "language": "python",
   "name": "python3"
  },
  "language_info": {
   "codemirror_mode": {
    "name": "ipython",
    "version": 3
   },
   "file_extension": ".py",
   "mimetype": "text/x-python",
   "name": "python",
   "nbconvert_exporter": "python",
   "pygments_lexer": "ipython3",
   "version": "3.7.4"
  }
 },
 "nbformat": 4,
 "nbformat_minor": 2
}
