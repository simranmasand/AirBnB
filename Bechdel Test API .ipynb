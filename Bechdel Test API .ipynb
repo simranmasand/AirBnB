{
 "cells": [
  {
   "cell_type": "markdown",
   "metadata": {},
   "source": [
    "# Breaking the Celluloid Ceiling: Predicting the Bechdel classification of a movie\n",
    "    "
   ]
  },
  {
   "cell_type": "code",
   "execution_count": 1,
   "metadata": {},
   "outputs": [
    {
     "data": {
      "text/plain": [
       "200"
      ]
     },
     "execution_count": 1,
     "metadata": {},
     "output_type": "execute_result"
    }
   ],
   "source": [
    "#download bechdel list using data\n",
    "#https://bechdeltest.com/api/v1/doc#getAllMovies\n",
    "import requests # a library that lets us make HTTP requests\n",
    "\n",
    "date_str = '2018-06'\n",
    "\n",
    "# let's define the same URL that we accessed in our web browsers\n",
    "bechdel_api_url = 'http://bechdeltest.com/api/v1/getAllMovies?none' #params'+date_str\n",
    "\n",
    "bechdel_response = requests.get(bechdel_api_url) # make a request to the URL\n",
    "bechdel_response.status_code # this tells us whether the request was successful"
   ]
  },
  {
   "cell_type": "code",
   "execution_count": 7,
   "metadata": {},
   "outputs": [
    {
     "data": {
      "text/plain": [
       "{'rating': 2,\n",
       " 'year': 2018,\n",
       " 'id': 8474,\n",
       " 'title': 'En liberte!',\n",
       " 'imdbid': '7534068'}"
      ]
     },
     "execution_count": 7,
     "metadata": {},
     "output_type": "execute_result"
    }
   ],
   "source": [
    "bechdel_json = bechdel_response.json()\n",
    "bechdel_json[8000]"
   ]
  },
  {
   "cell_type": "raw",
   "metadata": {},
   "source": [
    "rating:\tThe actual score. Number from 0 to 3 (0 means no two women, 1 means no talking, 2 means talking about a man, 3 means it passes the test).\n",
    "imdbid:\tThe IMDb id.\n",
    "id:\tThe bechdeltest.com unique id.\n",
    "title:\tThe title of the movie. Any weird characters are HTML encoded (so Brüno is returned as \"Br&uuml;no\").\n",
    "year:\tThe year this movie was released (according to IMDb)."
   ]
  },
  {
   "cell_type": "raw",
   "metadata": {},
   "source": [
    "# get imdb data with cast, score and other metadata\n",
    "# get script data"
   ]
  }
 ],
 "metadata": {
  "kernelspec": {
   "display_name": "Python 3",
   "language": "python",
   "name": "python3"
  },
  "language_info": {
   "codemirror_mode": {
    "name": "ipython",
    "version": 3
   },
   "file_extension": ".py",
   "mimetype": "text/x-python",
   "name": "python",
   "nbconvert_exporter": "python",
   "pygments_lexer": "ipython3",
   "version": "3.7.7"
  }
 },
 "nbformat": 4,
 "nbformat_minor": 2
}
